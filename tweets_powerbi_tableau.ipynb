{
  "nbformat": 4,
  "nbformat_minor": 5,
  "metadata": {
    "kernelspec": {
      "display_name": "Python 3",
      "language": "python",
      "name": "python3"
    },
    "language_info": {
      "codemirror_mode": {
        "name": "ipython",
        "version": 3
      },
      "file_extension": ".py",
      "mimetype": "text/x-python",
      "name": "python",
      "nbconvert_exporter": "python",
      "pygments_lexer": "ipython3",
      "version": "3.8.8"
    },
    "colab": {
      "name": "tweets_powerbi_tableau.ipynb",
      "provenance": [],
      "collapsed_sections": [],
      "toc_visible": true,
      "include_colab_link": true
    }
  },
  "cells": [
    {
      "cell_type": "markdown",
      "metadata": {
        "id": "view-in-github",
        "colab_type": "text"
      },
      "source": [
        "<a href=\"https://colab.research.google.com/github/r-alfonso/powerbi_tableau/blob/main/tweets_powerbi_tableau.ipynb\" target=\"_parent\"><img src=\"https://colab.research.google.com/assets/colab-badge.svg\" alt=\"Open In Colab\"/></a>"
      ]
    },
    {
      "cell_type": "markdown",
      "metadata": {
        "id": "92e55540-a795-4d39-a572-82ac994a652e"
      },
      "source": [
        "## Librerias"
      ],
      "id": "92e55540-a795-4d39-a572-82ac994a652e"
    },
    {
      "cell_type": "code",
      "metadata": {
        "id": "ca369f14-8de8-4c56-8d4e-37b6bf008172"
      },
      "source": [
        "import tweepy"
      ],
      "id": "ca369f14-8de8-4c56-8d4e-37b6bf008172",
      "execution_count": null,
      "outputs": []
    },
    {
      "cell_type": "code",
      "metadata": {
        "id": "ea654a56-83c2-4693-8633-f90878827b2f"
      },
      "source": [
        "import pandas as pd"
      ],
      "id": "ea654a56-83c2-4693-8633-f90878827b2f",
      "execution_count": null,
      "outputs": []
    },
    {
      "cell_type": "code",
      "metadata": {
        "id": "4a500882-a8ee-4e7a-825d-eb288aebe5ee"
      },
      "source": [
        "import pyodbc"
      ],
      "id": "4a500882-a8ee-4e7a-825d-eb288aebe5ee",
      "execution_count": null,
      "outputs": []
    },
    {
      "cell_type": "markdown",
      "metadata": {
        "id": "461e6bf4-f473-4287-b5d8-ffc8eda2dff5"
      },
      "source": [
        "## Conexión con la API"
      ],
      "id": "461e6bf4-f473-4287-b5d8-ffc8eda2dff5"
    },
    {
      "cell_type": "markdown",
      "metadata": {
        "id": "50a323dd-7eff-45e9-a99e-491be75fe177"
      },
      "source": [
        "### Credenciales:"
      ],
      "id": "50a323dd-7eff-45e9-a99e-491be75fe177"
    },
    {
      "cell_type": "markdown",
      "metadata": {
        "id": "b8e49fb5-90f2-4714-b142-462a40887371"
      },
      "source": [
        "##### Información sobre la API y como obtener las credenciales: https://developer.twitter.com/en/docs/twitter-api"
      ],
      "id": "b8e49fb5-90f2-4714-b142-462a40887371"
    },
    {
      "cell_type": "markdown",
      "metadata": {
        "id": "6b5dc6d3-37f3-425c-8f5a-ee76c302dd0a"
      },
      "source": [
        "Lo ideal es tenerlas en un archivo separado"
      ],
      "id": "6b5dc6d3-37f3-425c-8f5a-ee76c302dd0a"
    },
    {
      "cell_type": "code",
      "metadata": {
        "id": "403f28f2-87d8-48a0-867f-d10b5c61b496"
      },
      "source": [
        "api_key = 'xxxxxxxxxxxxxxxxxxxxxxxxxxxxxxxxx'\n",
        "api_secret_key = 'xxxxxxxxxxxxxxxxxxxxxxxxxxxxxxxxx'\n",
        "access_token = 'xxxxxxxxxxxxxxxxxxxxxxxxxxxxxxxxx'\n",
        "access_token_secret = 'xxxxxxxxxxxxxxxxxxxxxxxxxxxxxxxxx'"
      ],
      "id": "403f28f2-87d8-48a0-867f-d10b5c61b496",
      "execution_count": null,
      "outputs": []
    },
    {
      "cell_type": "markdown",
      "metadata": {
        "id": "65f80879-6f7c-4f3e-b45a-dde82c67f695"
      },
      "source": [
        "### Autentificación"
      ],
      "id": "65f80879-6f7c-4f3e-b45a-dde82c67f695"
    },
    {
      "cell_type": "code",
      "metadata": {
        "id": "74956b06-062f-44d4-9584-2acb62fbcc7d"
      },
      "source": [
        "auth = tweepy.OAuthHandler(api_key, api_secret_key)\n",
        "auth.set_access_token(access_token, access_token_secret)"
      ],
      "id": "74956b06-062f-44d4-9584-2acb62fbcc7d",
      "execution_count": null,
      "outputs": []
    },
    {
      "cell_type": "markdown",
      "metadata": {
        "id": "5624532a-4455-48fe-9a78-6d2f1f94e0b9"
      },
      "source": [
        "### Enlace API"
      ],
      "id": "5624532a-4455-48fe-9a78-6d2f1f94e0b9"
    },
    {
      "cell_type": "code",
      "metadata": {
        "id": "9d9f6ccc-9fc0-4f17-82e8-7786ab1d0ff9"
      },
      "source": [
        "api = tweepy.API(auth,\n",
        "                 wait_on_rate_limit = True,\n",
        "                 wait_on_rate_limit_notify = True)"
      ],
      "id": "9d9f6ccc-9fc0-4f17-82e8-7786ab1d0ff9",
      "execution_count": null,
      "outputs": []
    },
    {
      "cell_type": "markdown",
      "metadata": {
        "id": "0afae0b6-6bbd-41e2-ae2f-5abe59bd5d11"
      },
      "source": [
        "## Busqueda de Tweets en español"
      ],
      "id": "0afae0b6-6bbd-41e2-ae2f-5abe59bd5d11"
    },
    {
      "cell_type": "markdown",
      "metadata": {
        "id": "9f9eedc0-f474-4794-905a-8c3e836ee4ab"
      },
      "source": [
        "### Criterios de la búsqueda"
      ],
      "id": "9f9eedc0-f474-4794-905a-8c3e836ee4ab"
    },
    {
      "cell_type": "code",
      "metadata": {
        "id": "4ee57ace-0d66-41d6-b748-a5993601a3f6"
      },
      "source": [
        "content_search = ('#PowerBI OR #Tableau -filter:retweets')"
      ],
      "id": "4ee57ace-0d66-41d6-b748-a5993601a3f6",
      "execution_count": null,
      "outputs": []
    },
    {
      "cell_type": "markdown",
      "metadata": {
        "id": "7939346f-cbed-496e-b88c-6c269b160e95"
      },
      "source": [
        "El operador OR debe quedar dentro de la cadena y en mayuscula. No modificar por 'xxx' OR 'yyy' pues solo devolveria el primero. Por otro lado, -filter:retweets excluye los retweets."
      ],
      "id": "7939346f-cbed-496e-b88c-6c269b160e95"
    },
    {
      "cell_type": "code",
      "metadata": {
        "id": "00241270-fdf5-4580-84f4-7deb4505111e"
      },
      "source": [
        "id_tweet_since = '1389006799271029563'"
      ],
      "id": "00241270-fdf5-4580-84f4-7deb4505111e",
      "execution_count": null,
      "outputs": []
    },
    {
      "cell_type": "markdown",
      "metadata": {
        "id": "71dafe74-8813-48a4-a189-4a99962c6583"
      },
      "source": [
        "El Tweet ID se utiliza para indicar la fecha (el parámetro since_id por ejemplo, indica una fecha superior o igual al del id del tweet especificado), pues cada id de twitter \"lleva impreso\" la fecha y hora en la cual se publicó (en este caso el id '1389006799271029563' corresponde al lunes 03-05-2021 00:00:02 GMT. Para ampliar este tema y obtener la fecha de un ID puedes consulta el repositorio: https://github.com/oduwsdl/tweetedat"
      ],
      "id": "71dafe74-8813-48a4-a189-4a99962c6583"
    },
    {
      "cell_type": "markdown",
      "metadata": {
        "id": "04ecbdd8-5bc6-42aa-82f7-cc7717b8f531"
      },
      "source": [
        "Otro método puede ser directamente indicar la fecha mediante el parámetro proporcionado para dicho caso (https://docs.tweepy.org/en/latest/index.html), dado que en algunas ocasiones este metodo me generó errores, prefiero el uso del id."
      ],
      "id": "04ecbdd8-5bc6-42aa-82f7-cc7717b8f531"
    },
    {
      "cell_type": "code",
      "metadata": {
        "tags": [],
        "id": "396abe7f-b59c-4f7b-9928-782624bdf8c3"
      },
      "source": [
        "sample = 2500"
      ],
      "id": "396abe7f-b59c-4f7b-9928-782624bdf8c3",
      "execution_count": null,
      "outputs": []
    },
    {
      "cell_type": "code",
      "metadata": {
        "id": "bcb1426c-52d6-4aa9-92df-71c501ad7a9d"
      },
      "source": [
        "language_code = 'es'"
      ],
      "id": "bcb1426c-52d6-4aa9-92df-71c501ad7a9d",
      "execution_count": null,
      "outputs": []
    },
    {
      "cell_type": "markdown",
      "metadata": {
        "id": "35ac11f8-ee4e-415c-9371-1d1446ea33ff"
      },
      "source": [
        "### Búsqueda de Tweets y Creación del Dataframe"
      ],
      "id": "35ac11f8-ee4e-415c-9371-1d1446ea33ff"
    },
    {
      "cell_type": "code",
      "metadata": {
        "id": "eac5c259-4521-4225-932c-ff27b0f54882"
      },
      "source": [
        "tweets = tweepy.Cursor(api.search, q = content_search, lang = language_code, tweet_mode = 'extended', since_id = id_tweet_since).items(sample)\n",
        "df = pd.DataFrame(columns = ['id_user','username','id_tweet','tweet','created_at','user_location'])\n",
        "for tweet in tweets:\n",
        "    df = df.append({'id_user':tweet.user.id,'username':tweet.user.screen_name,'id_tweet':tweet.id,'tweet':tweet.full_text,'created_at':tweet.created_at,'user_location':tweet.user.location}, ignore_index = True)"
      ],
      "id": "eac5c259-4521-4225-932c-ff27b0f54882",
      "execution_count": null,
      "outputs": []
    },
    {
      "cell_type": "markdown",
      "metadata": {
        "id": "c24765fe-2aac-47c0-935a-ce91900255ac"
      },
      "source": [
        "Hasta acá se prodría exportar el dataframe a un archivo .csv //df.to_csv('nombre_del_archivo.csv',index = False)// pero podemos cargarlo directamente a un database."
      ],
      "id": "c24765fe-2aac-47c0-935a-ce91900255ac"
    },
    {
      "cell_type": "markdown",
      "metadata": {
        "id": "036c5e74-8f51-4d0a-851c-0328ded9044f"
      },
      "source": [
        "## Creación de tabla en sql server y carga del Dataframe"
      ],
      "id": "036c5e74-8f51-4d0a-851c-0328ded9044f"
    },
    {
      "cell_type": "markdown",
      "metadata": {
        "id": "16ee2ff8-db49-4768-943c-093498561aae"
      },
      "source": [
        "### Conexión con la base"
      ],
      "id": "16ee2ff8-db49-4768-943c-093498561aae"
    },
    {
      "cell_type": "code",
      "metadata": {
        "id": "95b6b66a-519f-4ff5-952a-2c65a850ca26"
      },
      "source": [
        "conexion_string = \"DRIVER={ODBC Driver 17 for SQL Server};SERVER=;DATABASE=;UID=r'.\\SQLEXPRESS';PWD=;Trusted_Connection=yes;\"\n",
        "conexion = pyodbc.connect(conexion_string, autocommit=True)"
      ],
      "id": "95b6b66a-519f-4ff5-952a-2c65a850ca26",
      "execution_count": null,
      "outputs": []
    },
    {
      "cell_type": "markdown",
      "metadata": {
        "id": "63664065-28c5-4587-977e-a8f08bdc96b8"
      },
      "source": [
        "### Creación de tabla"
      ],
      "id": "63664065-28c5-4587-977e-a8f08bdc96b8"
    },
    {
      "cell_type": "code",
      "metadata": {
        "id": "5892f36a-c189-4a95-9cd9-1e202020e6be"
      },
      "source": [
        "tweets_table= 'CREATE TABLE tweets_table(id_user nvarchar(255),username nvarchar(255),id_tweet nvarchar(255),tweet nvarchar(MAX),created_at nvarchar(255),user_location nvarchar(255))'\n",
        "cursor = conexion.cursor()\n",
        "cursor.execute(tweets_table)"
      ],
      "id": "5892f36a-c189-4a95-9cd9-1e202020e6be",
      "execution_count": null,
      "outputs": []
    },
    {
      "cell_type": "markdown",
      "metadata": {
        "id": "6c8eaf22-4eed-4d6c-b6a4-6ef04371c6f3"
      },
      "source": [
        "### Carga del Dataframe"
      ],
      "id": "6c8eaf22-4eed-4d6c-b6a4-6ef04371c6f3"
    },
    {
      "cell_type": "code",
      "metadata": {
        "id": "60466c47-2b67-45be-98d6-747a00589340"
      },
      "source": [
        "for index, row in df.iterrows(): \n",
        "    conexion.execute(\"INSERT INTO tweets_table (id_user, username, id_tweet, tweet, created_at, user_location) values(?,?,?,?,?,?)\", row['id_user'], row['username'], row['id_tweet'], row['tweet'], row['created_at'], row['user_location'])"
      ],
      "id": "60466c47-2b67-45be-98d6-747a00589340",
      "execution_count": null,
      "outputs": []
    },
    {
      "cell_type": "markdown",
      "metadata": {
        "id": "c67c0a8d-be66-432d-a5f1-1800486afbe0"
      },
      "source": [
        "### Finalización de la Conexión"
      ],
      "id": "c67c0a8d-be66-432d-a5f1-1800486afbe0"
    },
    {
      "cell_type": "code",
      "metadata": {
        "id": "ba21686e-2a0a-4d58-aad3-c5832658bba5"
      },
      "source": [
        "conexion.close()\n",
        "print ('Listo el pollo')"
      ],
      "id": "ba21686e-2a0a-4d58-aad3-c5832658bba5",
      "execution_count": null,
      "outputs": []
    }
  ]
}