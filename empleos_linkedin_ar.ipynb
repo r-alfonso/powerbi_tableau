{
  "nbformat": 4,
  "nbformat_minor": 5,
  "metadata": {
    "kernelspec": {
      "display_name": "Python 3",
      "language": "python",
      "name": "python3"
    },
    "language_info": {
      "codemirror_mode": {
        "name": "ipython",
        "version": 3
      },
      "file_extension": ".py",
      "mimetype": "text/x-python",
      "name": "python",
      "nbconvert_exporter": "python",
      "pygments_lexer": "ipython3",
      "version": "3.8.8"
    },
    "colab": {
      "name": "empleos_linkedin_ar.ipynb",
      "provenance": [],
      "include_colab_link": true
    }
  },
  "cells": [
    {
      "cell_type": "markdown",
      "metadata": {
        "id": "view-in-github",
        "colab_type": "text"
      },
      "source": [
        "<a href=\"https://colab.research.google.com/github/r-alfonso/powerbi_tableau/blob/main/empleos_linkedin_ar.ipynb\" target=\"_parent\"><img src=\"https://colab.research.google.com/assets/colab-badge.svg\" alt=\"Open In Colab\"/></a>"
      ]
    },
    {
      "cell_type": "markdown",
      "metadata": {
        "id": "92e55540-a795-4d39-a572-82ac994a652e"
      },
      "source": [
        "#### Librerias"
      ],
      "id": "92e55540-a795-4d39-a572-82ac994a652e"
    },
    {
      "cell_type": "code",
      "metadata": {
        "id": "ca369f14-8de8-4c56-8d4e-37b6bf008172"
      },
      "source": [
        "from selenium import webdriver"
      ],
      "id": "ca369f14-8de8-4c56-8d4e-37b6bf008172",
      "execution_count": null,
      "outputs": []
    },
    {
      "cell_type": "code",
      "metadata": {
        "id": "66ba1e97-9b8b-49b0-ba9b-11b0cbf16a79"
      },
      "source": [
        "import pandas as pd"
      ],
      "id": "66ba1e97-9b8b-49b0-ba9b-11b0cbf16a79",
      "execution_count": null,
      "outputs": []
    },
    {
      "cell_type": "code",
      "metadata": {
        "id": "23d153db-eb1f-4c7f-8594-38c182a4b043"
      },
      "source": [
        "import time"
      ],
      "id": "23d153db-eb1f-4c7f-8594-38c182a4b043",
      "execution_count": null,
      "outputs": []
    },
    {
      "cell_type": "markdown",
      "metadata": {
        "id": "461e6bf4-f473-4287-b5d8-ffc8eda2dff5"
      },
      "source": [
        "#### Driver Web"
      ],
      "id": "461e6bf4-f473-4287-b5d8-ffc8eda2dff5"
    },
    {
      "cell_type": "code",
      "metadata": {
        "id": "b1f6fca1-0ed8-41e7-96cd-7413a769dbbb"
      },
      "source": [
        "driver = webdriver.Chrome('./chromedriver.exe')"
      ],
      "id": "b1f6fca1-0ed8-41e7-96cd-7413a769dbbb",
      "execution_count": null,
      "outputs": []
    },
    {
      "cell_type": "markdown",
      "metadata": {
        "id": "50a323dd-7eff-45e9-a99e-491be75fe177"
      },
      "source": [
        "#### Criterios de la búsqueda:"
      ],
      "id": "50a323dd-7eff-45e9-a99e-491be75fe177"
    },
    {
      "cell_type": "code",
      "metadata": {
        "id": "0b5f65f4-85ad-48ea-921e-2d0280d8377f"
      },
      "source": [
        "content_search_1 = 'PowerBI'"
      ],
      "id": "0b5f65f4-85ad-48ea-921e-2d0280d8377f",
      "execution_count": null,
      "outputs": []
    },
    {
      "cell_type": "code",
      "metadata": {
        "id": "a43068be-0383-4ce8-ad8c-c4289ef1794a"
      },
      "source": [
        "content_search_2 = 'Tableau'"
      ],
      "id": "a43068be-0383-4ce8-ad8c-c4289ef1794a",
      "execution_count": null,
      "outputs": []
    },
    {
      "cell_type": "code",
      "metadata": {
        "id": "47c1a02e-393e-4d1c-90f2-b91d1b05b779"
      },
      "source": [
        "url_start = 'https://www.linkedin.com/jobs/search?keywords='"
      ],
      "id": "47c1a02e-393e-4d1c-90f2-b91d1b05b779",
      "execution_count": null,
      "outputs": []
    },
    {
      "cell_type": "code",
      "metadata": {
        "id": "3b0a5b30-58e8-4aeb-8b49-557427544268"
      },
      "source": [
        "url_final = \"&location=Argentina&geoId=100446943&trk=public_jobs_jobs-search-bar_search-submit&f_TPR=r604800&position=1&pageNum=0\""
      ],
      "id": "3b0a5b30-58e8-4aeb-8b49-557427544268",
      "execution_count": null,
      "outputs": []
    },
    {
      "cell_type": "code",
      "metadata": {
        "id": "c5649584-da0d-4460-ae02-d770facc6df7"
      },
      "source": [
        "url_1 = url_start+content_search_1+url_final"
      ],
      "id": "c5649584-da0d-4460-ae02-d770facc6df7",
      "execution_count": null,
      "outputs": []
    },
    {
      "cell_type": "code",
      "metadata": {
        "id": "811cc60c-8840-4d38-a2c2-19c3f6106f0e"
      },
      "source": [
        "url_2 = url_start+content_search_2+url_final"
      ],
      "id": "811cc60c-8840-4d38-a2c2-19c3f6106f0e",
      "execution_count": null,
      "outputs": []
    },
    {
      "cell_type": "markdown",
      "metadata": {
        "id": "bda960c2-7cd0-4fb0-8bdf-17b292dffa75"
      },
      "source": [
        "#### DataFrame:"
      ],
      "id": "bda960c2-7cd0-4fb0-8bdf-17b292dffa75"
    },
    {
      "cell_type": "code",
      "metadata": {
        "id": "3a80df54-7591-46a3-8c8d-7b243eea1354"
      },
      "source": [
        "df = pd.DataFrame(columns = ['program','jobs'])"
      ],
      "id": "3a80df54-7591-46a3-8c8d-7b243eea1354",
      "execution_count": null,
      "outputs": []
    },
    {
      "cell_type": "markdown",
      "metadata": {
        "id": "e3f4ecbd-3bee-4b8a-8d3b-7cee09ed91bc"
      },
      "source": [
        "#### Conexión con la web y obtencion del total de empleos publicados:"
      ],
      "id": "e3f4ecbd-3bee-4b8a-8d3b-7cee09ed91bc"
    },
    {
      "cell_type": "code",
      "metadata": {
        "id": "69c7df04-d8ba-4eaa-97ab-621dd30e3c33"
      },
      "source": [
        "driver.get(url_1)"
      ],
      "id": "69c7df04-d8ba-4eaa-97ab-621dd30e3c33",
      "execution_count": null,
      "outputs": []
    },
    {
      "cell_type": "code",
      "metadata": {
        "id": "1b73ca8c-9337-4360-aa42-8673215692c6"
      },
      "source": [
        "time.sleep(3)"
      ],
      "id": "1b73ca8c-9337-4360-aa42-8673215692c6",
      "execution_count": null,
      "outputs": []
    },
    {
      "cell_type": "code",
      "metadata": {
        "id": "df48bd18-ff0c-4290-a151-90c93823a520"
      },
      "source": [
        "total_jobs_1 = driver.find_element_by_css_selector('span.results-context-header__job-count')"
      ],
      "id": "df48bd18-ff0c-4290-a151-90c93823a520",
      "execution_count": null,
      "outputs": []
    },
    {
      "cell_type": "code",
      "metadata": {
        "id": "849a8444-d761-495f-ae03-6d7be1ba65a3"
      },
      "source": [
        "df = df.append({'program':content_search_1,'jobs':total_jobs_1.text}, ignore_index = True)"
      ],
      "id": "849a8444-d761-495f-ae03-6d7be1ba65a3",
      "execution_count": null,
      "outputs": []
    },
    {
      "cell_type": "code",
      "metadata": {
        "id": "b22b36ea-1fbf-4d7d-9501-48b88675a90b"
      },
      "source": [
        "driver.get(url_2)"
      ],
      "id": "b22b36ea-1fbf-4d7d-9501-48b88675a90b",
      "execution_count": null,
      "outputs": []
    },
    {
      "cell_type": "code",
      "metadata": {
        "id": "7e71d7bd-2de3-4c7c-a11c-da2e804ca27f"
      },
      "source": [
        "time.sleep(3)"
      ],
      "id": "7e71d7bd-2de3-4c7c-a11c-da2e804ca27f",
      "execution_count": null,
      "outputs": []
    },
    {
      "cell_type": "code",
      "metadata": {
        "id": "1c2fe595-7e3b-4db9-9be6-63a3e4ab1d47"
      },
      "source": [
        "total_jobs_2 = driver.find_element_by_css_selector('span.results-context-header__job-count')"
      ],
      "id": "1c2fe595-7e3b-4db9-9be6-63a3e4ab1d47",
      "execution_count": null,
      "outputs": []
    },
    {
      "cell_type": "code",
      "metadata": {
        "id": "98177b01-fef8-4be6-aa0c-7377a54d5195"
      },
      "source": [
        "df = df.append({'program':content_search_2,'jobs':total_jobs_2.text}, ignore_index = True)"
      ],
      "id": "98177b01-fef8-4be6-aa0c-7377a54d5195",
      "execution_count": null,
      "outputs": []
    },
    {
      "cell_type": "markdown",
      "metadata": {
        "id": "a5a08160-e3f5-4954-a4c2-5960d40d9b3b"
      },
      "source": [
        "#### Exportar .csv"
      ],
      "id": "a5a08160-e3f5-4954-a4c2-5960d40d9b3b"
    },
    {
      "cell_type": "code",
      "metadata": {
        "id": "65ae408e-fdf3-4653-b1b8-5512016b9425"
      },
      "source": [
        "df.to_csv('linkedin_jobs.csv',index = False)"
      ],
      "id": "65ae408e-fdf3-4653-b1b8-5512016b9425",
      "execution_count": null,
      "outputs": []
    },
    {
      "cell_type": "markdown",
      "metadata": {
        "id": "eb78f463-eb00-4245-bb67-d4ac2153a3e1"
      },
      "source": [
        "#### Finalizar la Conexión"
      ],
      "id": "eb78f463-eb00-4245-bb67-d4ac2153a3e1"
    },
    {
      "cell_type": "code",
      "metadata": {
        "id": "3eb1bfb6-0514-4bed-a6f2-069ad7887373"
      },
      "source": [
        "driver.quit()\n",
        "print ('Listo el pollo')"
      ],
      "id": "3eb1bfb6-0514-4bed-a6f2-069ad7887373",
      "execution_count": null,
      "outputs": []
    }
  ]
}